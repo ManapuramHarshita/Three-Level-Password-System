{
  "nbformat": 4,
  "nbformat_minor": 0,
  "metadata": {
    "colab": {
      "provenance": []
    },
    "kernelspec": {
      "name": "python3",
      "display_name": "Python 3"
    },
    "language_info": {
      "name": "python"
    }
  },
  "cells": [
    {
      "cell_type": "code",
      "execution_count": null,
      "metadata": {
        "colab": {
          "base_uri": "https://localhost:8080/"
        },
        "id": "Ze97eY6owKYU",
        "outputId": "67e14404-5830-4fb1-9880-3cb074cbafbe"
      },
      "outputs": [
        {
          "name": "stdout",
          "output_type": "stream",
          "text": [
            "Create your password: Harshita@1901\n"
          ]
        }
      ],
      "source": [
        "import hashlib\n",
        "import random\n",
        "import string\n",
        "import re\n",
        "\n",
        "# Level 1: Textual Password\n",
        "def validate_password_format(password):\n",
        "    \"\"\"Validate the password format.\"\"\"\n",
        "    if (len(password) >= 8 and\n",
        "        re.search(r'[A-Z]', password) and  # At least one uppercase letter\n",
        "        re.search(r'\\d', password) and  # At least one digit\n",
        "        re.search(r'[@$!%*?&#]', password)):  # At least one special character\n",
        "        return True\n",
        "    return False\n",
        "\n",
        "def hash_password(password):\n",
        "    \"\"\"Hash the password using SHA-256.\"\"\"\n",
        "    return hashlib.sha256(password.encode()).hexdigest()\n",
        "\n",
        "def verify_password(stored_password_hash, provided_password):\n",
        "    \"\"\"Verify a provided password against the stored hash.\"\"\"\n",
        "    return stored_password_hash == hash_password(provided_password)\n",
        "\n",
        "# Level 2: CAPTCHA Verification\n",
        "def generate_captcha():\n",
        "    \"\"\"Generate a random CAPTCHA string.\"\"\"\n",
        "    letters = string.ascii_letters + string.digits\n",
        "    captcha = ''.join(random.choice(letters) for _ in range(6))\n",
        "    return captcha\n",
        "\n",
        "def verify_captcha(user_captcha, actual_captcha):\n",
        "    \"\"\"Verify the CAPTCHA entered by the user.\"\"\"\n",
        "    return user_captcha == actual_captcha\n",
        "\n",
        "# Level 3: Security Question\n",
        "def verify_security_question(stored_answer, provided_answer):\n",
        "    \"\"\"Verify the answer to the security question.\"\"\"\n",
        "    return stored_answer.lower() == provided_answer.lower()\n",
        "\n",
        "# Example Usage:\n",
        "if __name__ == \"__main__\":\n",
        "    # Registration: User sets up their password and security question\n",
        "    while True:\n",
        "        user_password = input(\"Create your password: \")\n",
        "        if validate_password_format(user_password):\n",
        "            confirm_password = input(\"Confirm your password: \")\n",
        "            if user_password != confirm_password:\n",
        "                print(\"Passwords do not match. Try again.\")\n",
        "            else:\n",
        "                stored_password_hash = hash_password(user_password)\n",
        "                print(\"Password registered successfully.\")\n",
        "                break\n",
        "        else:\n",
        "            print(\"Password must be at least 8 characters long, \"\n",
        "                  \"include one uppercase letter, one number, and one special character.\")\n",
        "\n",
        "    # Security question setup\n",
        "    security_question = \"What is your favorite color?\"\n",
        "    security_answer = input(f\"Answer the security question: {security_question} \")\n",
        "    stored_security_answer = security_answer\n",
        "    print(\"Security question registered successfully.\")\n",
        "\n",
        "    # Simulating user login\n",
        "    provided_password = input(\"Enter your password: \")\n",
        "    if verify_password(stored_password_hash, provided_password):\n",
        "        print(\"Password Verified.\")\n",
        "\n",
        "        # Level 2: CAPTCHA\n",
        "        actual_captcha = generate_captcha()\n",
        "        print(f\"CAPTCHA: {actual_captcha}\")\n",
        "        user_captcha = input(\"Enter the CAPTCHA: \")\n",
        "        if verify_captcha(user_captcha, actual_captcha):\n",
        "            print(\"CAPTCHA Verified.\")\n",
        "\n",
        "            # Level 3: Security Question\n",
        "            provided_answer = input(f\"Answer the security question: {security_question} \")\n",
        "            if verify_security_question(stored_security_answer, provided_answer):\n",
        "                print(\"Security Question Verified. Access Granted.\")\n",
        "            else:\n",
        "                print(\"Security Question Answer Incorrect. Access Denied.\")\n",
        "        else:\n",
        "            print(\"CAPTCHA Incorrect. Access Denied.\")\n",
        "    else:\n",
        "        print(\"Password Incorrect. Access Denied.\")\n"
      ]
    }
  ]
}